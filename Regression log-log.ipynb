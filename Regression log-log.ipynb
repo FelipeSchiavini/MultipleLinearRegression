{
 "cells": [
  {
   "cell_type": "markdown",
   "metadata": {},
   "source": [
    "## Multiple Linear Regression - log - log\n",
    "---\n",
    "\n",
    "In this notebook we will make a model to preview the value of houses <br>\n",
    "train - base\n",
    "\n",
    "1. [Obtaining data and importing libraries](#t1.)\n",
    "2. [Data Quality & missing values](#t2.)\n",
    "3. [PCA - Pricipal Componet Analysis](#t3.)\n",
    "4. [Multiple Linear Regression](#t4.)"
   ]
  },
  {
   "cell_type": "markdown",
   "metadata": {},
   "source": [
    "<a id=\"t1.\"></a>\n",
    "### 1. Obtaining data and importing libraries"
   ]
  },
  {
   "cell_type": "code",
   "execution_count": 645,
   "metadata": {},
   "outputs": [],
   "source": [
    "import pandas as pd\n",
    "import matplotlib.pyplot as plt\n",
    "import seaborn as sns\n",
    "import numpy as np\n",
    "from sklearn.preprocessing import StandardScaler\n",
    "from sklearn.linear_model import LinearRegression\n",
    "from sklearn.decomposition import PCA\n",
    "import statsmodels.api as sm"
   ]
  },
  {
   "cell_type": "code",
   "execution_count": 646,
   "metadata": {},
   "outputs": [],
   "source": [
    "df = pd.read_csv('Data/train.csv')"
   ]
  },
  {
   "cell_type": "code",
   "execution_count": 647,
   "metadata": {},
   "outputs": [
    {
     "data": {
      "text/html": [
       "<div>\n",
       "<style scoped>\n",
       "    .dataframe tbody tr th:only-of-type {\n",
       "        vertical-align: middle;\n",
       "    }\n",
       "\n",
       "    .dataframe tbody tr th {\n",
       "        vertical-align: top;\n",
       "    }\n",
       "\n",
       "    .dataframe thead th {\n",
       "        text-align: right;\n",
       "    }\n",
       "</style>\n",
       "<table border=\"1\" class=\"dataframe\">\n",
       "  <thead>\n",
       "    <tr style=\"text-align: right;\">\n",
       "      <th></th>\n",
       "      <th>Id</th>\n",
       "      <th>MSSubClass</th>\n",
       "      <th>MSZoning</th>\n",
       "      <th>LotFrontage</th>\n",
       "      <th>LotArea</th>\n",
       "      <th>Street</th>\n",
       "      <th>Alley</th>\n",
       "      <th>LotShape</th>\n",
       "      <th>LandContour</th>\n",
       "      <th>Utilities</th>\n",
       "      <th>...</th>\n",
       "      <th>PoolArea</th>\n",
       "      <th>PoolQC</th>\n",
       "      <th>Fence</th>\n",
       "      <th>MiscFeature</th>\n",
       "      <th>MiscVal</th>\n",
       "      <th>MoSold</th>\n",
       "      <th>YrSold</th>\n",
       "      <th>SaleType</th>\n",
       "      <th>SaleCondition</th>\n",
       "      <th>SalePrice</th>\n",
       "    </tr>\n",
       "  </thead>\n",
       "  <tbody>\n",
       "    <tr>\n",
       "      <th>0</th>\n",
       "      <td>1</td>\n",
       "      <td>60</td>\n",
       "      <td>RL</td>\n",
       "      <td>65.0</td>\n",
       "      <td>8450</td>\n",
       "      <td>Pave</td>\n",
       "      <td>NaN</td>\n",
       "      <td>Reg</td>\n",
       "      <td>Lvl</td>\n",
       "      <td>AllPub</td>\n",
       "      <td>...</td>\n",
       "      <td>0</td>\n",
       "      <td>NaN</td>\n",
       "      <td>NaN</td>\n",
       "      <td>NaN</td>\n",
       "      <td>0</td>\n",
       "      <td>2</td>\n",
       "      <td>2008</td>\n",
       "      <td>WD</td>\n",
       "      <td>Normal</td>\n",
       "      <td>208500</td>\n",
       "    </tr>\n",
       "    <tr>\n",
       "      <th>1</th>\n",
       "      <td>2</td>\n",
       "      <td>20</td>\n",
       "      <td>RL</td>\n",
       "      <td>80.0</td>\n",
       "      <td>9600</td>\n",
       "      <td>Pave</td>\n",
       "      <td>NaN</td>\n",
       "      <td>Reg</td>\n",
       "      <td>Lvl</td>\n",
       "      <td>AllPub</td>\n",
       "      <td>...</td>\n",
       "      <td>0</td>\n",
       "      <td>NaN</td>\n",
       "      <td>NaN</td>\n",
       "      <td>NaN</td>\n",
       "      <td>0</td>\n",
       "      <td>5</td>\n",
       "      <td>2007</td>\n",
       "      <td>WD</td>\n",
       "      <td>Normal</td>\n",
       "      <td>181500</td>\n",
       "    </tr>\n",
       "    <tr>\n",
       "      <th>2</th>\n",
       "      <td>3</td>\n",
       "      <td>60</td>\n",
       "      <td>RL</td>\n",
       "      <td>68.0</td>\n",
       "      <td>11250</td>\n",
       "      <td>Pave</td>\n",
       "      <td>NaN</td>\n",
       "      <td>IR1</td>\n",
       "      <td>Lvl</td>\n",
       "      <td>AllPub</td>\n",
       "      <td>...</td>\n",
       "      <td>0</td>\n",
       "      <td>NaN</td>\n",
       "      <td>NaN</td>\n",
       "      <td>NaN</td>\n",
       "      <td>0</td>\n",
       "      <td>9</td>\n",
       "      <td>2008</td>\n",
       "      <td>WD</td>\n",
       "      <td>Normal</td>\n",
       "      <td>223500</td>\n",
       "    </tr>\n",
       "    <tr>\n",
       "      <th>3</th>\n",
       "      <td>4</td>\n",
       "      <td>70</td>\n",
       "      <td>RL</td>\n",
       "      <td>60.0</td>\n",
       "      <td>9550</td>\n",
       "      <td>Pave</td>\n",
       "      <td>NaN</td>\n",
       "      <td>IR1</td>\n",
       "      <td>Lvl</td>\n",
       "      <td>AllPub</td>\n",
       "      <td>...</td>\n",
       "      <td>0</td>\n",
       "      <td>NaN</td>\n",
       "      <td>NaN</td>\n",
       "      <td>NaN</td>\n",
       "      <td>0</td>\n",
       "      <td>2</td>\n",
       "      <td>2006</td>\n",
       "      <td>WD</td>\n",
       "      <td>Abnorml</td>\n",
       "      <td>140000</td>\n",
       "    </tr>\n",
       "    <tr>\n",
       "      <th>4</th>\n",
       "      <td>5</td>\n",
       "      <td>60</td>\n",
       "      <td>RL</td>\n",
       "      <td>84.0</td>\n",
       "      <td>14260</td>\n",
       "      <td>Pave</td>\n",
       "      <td>NaN</td>\n",
       "      <td>IR1</td>\n",
       "      <td>Lvl</td>\n",
       "      <td>AllPub</td>\n",
       "      <td>...</td>\n",
       "      <td>0</td>\n",
       "      <td>NaN</td>\n",
       "      <td>NaN</td>\n",
       "      <td>NaN</td>\n",
       "      <td>0</td>\n",
       "      <td>12</td>\n",
       "      <td>2008</td>\n",
       "      <td>WD</td>\n",
       "      <td>Normal</td>\n",
       "      <td>250000</td>\n",
       "    </tr>\n",
       "  </tbody>\n",
       "</table>\n",
       "<p>5 rows × 81 columns</p>\n",
       "</div>"
      ],
      "text/plain": [
       "   Id  MSSubClass MSZoning  LotFrontage  LotArea Street Alley LotShape  \\\n",
       "0   1          60       RL         65.0     8450   Pave   NaN      Reg   \n",
       "1   2          20       RL         80.0     9600   Pave   NaN      Reg   \n",
       "2   3          60       RL         68.0    11250   Pave   NaN      IR1   \n",
       "3   4          70       RL         60.0     9550   Pave   NaN      IR1   \n",
       "4   5          60       RL         84.0    14260   Pave   NaN      IR1   \n",
       "\n",
       "  LandContour Utilities  ... PoolArea PoolQC Fence MiscFeature MiscVal MoSold  \\\n",
       "0         Lvl    AllPub  ...        0    NaN   NaN         NaN       0      2   \n",
       "1         Lvl    AllPub  ...        0    NaN   NaN         NaN       0      5   \n",
       "2         Lvl    AllPub  ...        0    NaN   NaN         NaN       0      9   \n",
       "3         Lvl    AllPub  ...        0    NaN   NaN         NaN       0      2   \n",
       "4         Lvl    AllPub  ...        0    NaN   NaN         NaN       0     12   \n",
       "\n",
       "  YrSold  SaleType  SaleCondition  SalePrice  \n",
       "0   2008        WD         Normal     208500  \n",
       "1   2007        WD         Normal     181500  \n",
       "2   2008        WD         Normal     223500  \n",
       "3   2006        WD        Abnorml     140000  \n",
       "4   2008        WD         Normal     250000  \n",
       "\n",
       "[5 rows x 81 columns]"
      ]
     },
     "execution_count": 647,
     "metadata": {},
     "output_type": "execute_result"
    }
   ],
   "source": [
    "df.head()"
   ]
  },
  {
   "cell_type": "code",
   "execution_count": 648,
   "metadata": {},
   "outputs": [
    {
     "data": {
      "text/plain": [
       "(1460, 81)"
      ]
     },
     "execution_count": 648,
     "metadata": {},
     "output_type": "execute_result"
    }
   ],
   "source": [
    "df.shape"
   ]
  },
  {
   "cell_type": "markdown",
   "metadata": {},
   "source": [
    "<a id=\"t2.\"></a>\n",
    "### 2.Data Quality & missing values"
   ]
  },
  {
   "cell_type": "code",
   "execution_count": 649,
   "metadata": {},
   "outputs": [
    {
     "data": {
      "text/plain": [
       "Text(0.5, 0, 'House Sales Price')"
      ]
     },
     "execution_count": 649,
     "metadata": {},
     "output_type": "execute_result"
    },
    {
     "data": {
      "image/png": "[encoded data removed]",
      "text/plain": [
       "<Figure size 576x432 with 1 Axes>"
      ]
     },
     "metadata": {
      "needs_background": "light"
     },
     "output_type": "display_data"
    }
   ],
   "source": [
    "# we could see in this graph a asymmetric normal distribution, so we can try use ln to correct this asymmetric\n",
    "plt.figure(figsize = (8,6))\n",
    "sns.histplot(df['SalePrice'], color = 'tomato')\n",
    "plt.title('Asymmetric Distribution', fontdict = {'fontsize': 14})\n",
    "plt.xlabel('House Sales Price', fontdict = {'fontsize': 13})"
   ]
  },
  {
   "cell_type": "markdown",
   "metadata": {},
   "source": [
    "### Missing Values\n",
    "- Verify missing values\n",
    "- Remove values with missing data > 20%\n",
    "- replace number missing values for mean features"
   ]
  },
  {
   "cell_type": "markdown",
   "metadata": {},
   "source": [
    "#### Verify missing Values"
   ]
  },
  {
   "cell_type": "code",
   "execution_count": 650,
   "metadata": {},
   "outputs": [],
   "source": [
    "def null_columns(df):\n",
    "    null_values = df.isnull().sum()[df.isnull().sum() > 0].sort_values(ascending = False)\n",
    "    return null_values"
   ]
  },
  {
   "cell_type": "code",
   "execution_count": 651,
   "metadata": {},
   "outputs": [
    {
     "data": {
      "text/plain": [
       "19"
      ]
     },
     "execution_count": 651,
     "metadata": {},
     "output_type": "execute_result"
    }
   ],
   "source": [
    "null_values = null_columns(df)\n",
    "len(null_values)"
   ]
  },
  {
   "cell_type": "code",
   "execution_count": 652,
   "metadata": {},
   "outputs": [
    {
     "data": {
      "text/plain": [
       "PoolQC         0.995205\n",
       "MiscFeature    0.963014\n",
       "Alley          0.937671\n",
       "Fence          0.807534\n",
       "FireplaceQu    0.472603\n",
       "dtype: float64"
      ]
     },
     "execution_count": 652,
     "metadata": {},
     "output_type": "execute_result"
    }
   ],
   "source": [
    "null_ratio = null_values / df.shape[0]\n",
    "null_ratio[null_ratio > 0.2]\n"
   ]
  },
  {
   "cell_type": "markdown",
   "metadata": {},
   "source": [
    "#### Remove values with missing data > 20%"
   ]
  },
  {
   "cell_type": "code",
   "execution_count": 653,
   "metadata": {},
   "outputs": [],
   "source": [
    "df.drop(null_ratio[null_ratio > 0.2].index, axis = 1, inplace = True )"
   ]
  },
  {
   "cell_type": "code",
   "execution_count": 654,
   "metadata": {},
   "outputs": [],
   "source": [
    "null_values = null_columns(df)"
   ]
  },
  {
   "cell_type": "code",
   "execution_count": 655,
   "metadata": {},
   "outputs": [
    {
     "name": "stdout",
     "output_type": "stream",
     "text": [
      "Still have 14 columns with null values\n"
     ]
    }
   ],
   "source": [
    "print(f'Still have {len(null_values)} columns with null values')"
   ]
  },
  {
   "cell_type": "markdown",
   "metadata": {},
   "source": [
    "#### Replace number missing values for mean features"
   ]
  },
  {
   "cell_type": "code",
   "execution_count": 656,
   "metadata": {},
   "outputs": [],
   "source": [
    "for column in null_values.index:\n",
    "    if df[column].dtype != object:\n",
    "        df[column].fillna(df[column].mean(), inplace=True)"
   ]
  },
  {
   "cell_type": "code",
   "execution_count": 657,
   "metadata": {},
   "outputs": [
    {
     "name": "stdout",
     "output_type": "stream",
     "text": [
      "Still have 11 columns with null values\n"
     ]
    }
   ],
   "source": [
    "null_values = null_columns(df)\n",
    "print(f'Still have {len(null_values)} columns with null values')"
   ]
  },
  {
   "cell_type": "markdown",
   "metadata": {},
   "source": [
    "#### Fill categoric missing values with most frequent"
   ]
  },
  {
   "cell_type": "code",
   "execution_count": 658,
   "metadata": {},
   "outputs": [],
   "source": [
    "for column in null_values.index:\n",
    "    most_frequent = df[column].value_counts().index[0]\n",
    "    df[column] = df[column].fillna(most_frequent)"
   ]
  },
  {
   "cell_type": "code",
   "execution_count": 659,
   "metadata": {},
   "outputs": [
    {
     "name": "stdout",
     "output_type": "stream",
     "text": [
      "Still have 0 columns with null values\n"
     ]
    }
   ],
   "source": [
    "null_values = null_columns(df)\n",
    "print(f'Still have {len(null_values)} columns with null values')"
   ]
  },
  {
   "cell_type": "markdown",
   "metadata": {},
   "source": [
    "#### Categorical data to numeric"
   ]
  },
  {
   "cell_type": "code",
   "execution_count": 660,
   "metadata": {},
   "outputs": [
    {
     "data": {
      "text/plain": [
       "(1460, 76)"
      ]
     },
     "execution_count": 660,
     "metadata": {},
     "output_type": "execute_result"
    }
   ],
   "source": [
    "df.shape"
   ]
  },
  {
   "cell_type": "code",
   "execution_count": 661,
   "metadata": {},
   "outputs": [],
   "source": [
    "df = pd.get_dummies(df, drop_first = True)"
   ]
  },
  {
   "cell_type": "markdown",
   "metadata": {},
   "source": [
    "#### Removing Outliers"
   ]
  },
  {
   "cell_type": "code",
   "execution_count": 662,
   "metadata": {},
   "outputs": [
    {
     "data": {
      "text/plain": [
       "(1460, 234)"
      ]
     },
     "execution_count": 662,
     "metadata": {},
     "output_type": "execute_result"
    }
   ],
   "source": [
    "df.shape"
   ]
  },
  {
   "cell_type": "code",
   "execution_count": 663,
   "metadata": {},
   "outputs": [],
   "source": [
    "from sklearn.ensemble import IsolationForest"
   ]
  },
  {
   "cell_type": "code",
   "execution_count": 664,
   "metadata": {},
   "outputs": [],
   "source": [
    "clf = IsolationForest(max_samples=150)\n",
    "clf.fit(df)\n",
    "y_pred_train = clf.predict(df)"
   ]
  },
  {
   "cell_type": "code",
   "execution_count": 665,
   "metadata": {},
   "outputs": [
    {
     "data": {
      "text/plain": [
       "array([-1,  1])"
      ]
     },
     "execution_count": 665,
     "metadata": {},
     "output_type": "execute_result"
    }
   ],
   "source": [
    "np.unique(y_pred_train)"
   ]
  },
  {
   "cell_type": "code",
   "execution_count": 666,
   "metadata": {},
   "outputs": [
    {
     "data": {
      "text/plain": [
       "1438"
      ]
     },
     "execution_count": 666,
     "metadata": {},
     "output_type": "execute_result"
    }
   ],
   "source": [
    "y_pred_train.sum()"
   ]
  },
  {
   "cell_type": "code",
   "execution_count": 667,
   "metadata": {},
   "outputs": [],
   "source": [
    "df = df[y_pred_train == 1]"
   ]
  },
  {
   "cell_type": "code",
   "execution_count": 668,
   "metadata": {},
   "outputs": [
    {
     "data": {
      "text/plain": [
       "(1449, 234)"
      ]
     },
     "execution_count": 668,
     "metadata": {},
     "output_type": "execute_result"
    }
   ],
   "source": [
    "df.shape"
   ]
  },
  {
   "cell_type": "markdown",
   "metadata": {},
   "source": [
    "<a id=\"t3.\"></a>\n",
    "### 3. PCA - Pricipal Componet Analysis"
   ]
  },
  {
   "cell_type": "code",
   "execution_count": 669,
   "metadata": {},
   "outputs": [],
   "source": [
    "X = df.drop(['SalePrice'], axis = 1)\n",
    "y = df['SalePrice']"
   ]
  },
  {
   "cell_type": "code",
   "execution_count": 670,
   "metadata": {},
   "outputs": [],
   "source": [
    "scaler = StandardScaler()"
   ]
  },
  {
   "cell_type": "code",
   "execution_count": 671,
   "metadata": {},
   "outputs": [],
   "source": [
    "X_pad  = scaler.fit_transform(X)"
   ]
  },
  {
   "cell_type": "code",
   "execution_count": 672,
   "metadata": {},
   "outputs": [],
   "source": [
    "pca = PCA(0.9)\n",
    "X_pad = pca.fit_transform(X_pad)"
   ]
  },
  {
   "cell_type": "code",
   "execution_count": 673,
   "metadata": {},
   "outputs": [
    {
     "data": {
      "text/plain": [
       "Text(0.5, 1.0, 'Explained varience ratio')"
      ]
     },
     "execution_count": 673,
     "metadata": {},
     "output_type": "execute_result"
    },
    {
     "data": {
      "image/png": "[encoded data removed]",
      "text/plain": [
       "<Figure size 720x432 with 1 Axes>"
      ]
     },
     "metadata": {
      "needs_background": "light"
     },
     "output_type": "display_data"
    }
   ],
   "source": [
    "plt.figure(figsize = (10,6))\n",
    "plt.plot(np.cumsum(pca.explained_variance_ratio_), color = 'tomato', linewidth = 7)\n",
    "plt.title('Explained varience ratio', fontdict = {'fontsize': 15})"
   ]
  },
  {
   "cell_type": "code",
   "execution_count": 674,
   "metadata": {},
   "outputs": [
    {
     "data": {
      "text/plain": [
       "132"
      ]
     },
     "execution_count": 674,
     "metadata": {},
     "output_type": "execute_result"
    }
   ],
   "source": [
    "pca.n_components_"
   ]
  },
  {
   "cell_type": "markdown",
   "metadata": {},
   "source": [
    "#### Log - Log conversion to reduce features before PCA"
   ]
  },
  {
   "cell_type": "code",
   "execution_count": 675,
   "metadata": {},
   "outputs": [
    {
     "name": "stderr",
     "output_type": "stream",
     "text": [
      "C:\\Users\\felip\\anaconda3\\lib\\site-packages\\ipykernel_launcher.py:1: RuntimeWarning: divide by zero encountered in log\n",
      "  \"\"\"Entry point for launching an IPython kernel.\n"
     ]
    }
   ],
   "source": [
    "X = np.log(X)\n",
    "y = np.log(y)"
   ]
  },
  {
   "cell_type": "code",
   "execution_count": 676,
   "metadata": {},
   "outputs": [],
   "source": [
    "# # Correct infinity values for X\n",
    "X [ X == -np.inf] = 0"
   ]
  },
  {
   "cell_type": "markdown",
   "metadata": {},
   "source": [
    "#### PCA"
   ]
  },
  {
   "cell_type": "code",
   "execution_count": 677,
   "metadata": {},
   "outputs": [
    {
     "data": {
      "text/plain": [
       "34"
      ]
     },
     "execution_count": 677,
     "metadata": {},
     "output_type": "execute_result"
    }
   ],
   "source": [
    "scaler = StandardScaler()\n",
    "X_pca  = scaler.fit_transform(X)\n",
    "pca = PCA(0.99)\n",
    "X_pca = pca.fit_transform(X_pca)\n",
    "pca.n_components_"
   ]
  },
  {
   "cell_type": "code",
   "execution_count": 678,
   "metadata": {},
   "outputs": [
    {
     "data": {
      "text/plain": [
       "Text(0.5, 1.0, 'Explained varience ratio')"
      ]
     },
     "execution_count": 678,
     "metadata": {},
     "output_type": "execute_result"
    },
    {
     "data": {
      "image/png": "[encoded data removed]",
      "text/plain": [
       "<Figure size 720x432 with 1 Axes>"
      ]
     },
     "metadata": {
      "needs_background": "light"
     },
     "output_type": "display_data"
    }
   ],
   "source": [
    "plt.figure(figsize = (10,6))\n",
    "plt.plot(np.cumsum(pca.explained_variance_ratio_), color = 'tomato', linewidth = 7)\n",
    "plt.title('Explained varience ratio', fontdict = {'fontsize': 15})"
   ]
  },
  {
   "cell_type": "markdown",
   "metadata": {},
   "source": [
    "<a id=\"t4.\"></a>\n",
    "### 4. Multiple Linear Regression"
   ]
  },
  {
   "cell_type": "code",
   "execution_count": 679,
   "metadata": {},
   "outputs": [],
   "source": [
    "lr = LinearRegression().fit(X_pca, y)"
   ]
  },
  {
   "cell_type": "code",
   "execution_count": 680,
   "metadata": {},
   "outputs": [
    {
     "data": {
      "text/plain": [
       "0.8783487735554502"
      ]
     },
     "execution_count": 680,
     "metadata": {},
     "output_type": "execute_result"
    }
   ],
   "source": [
    "lr.score(X_pca, y)"
   ]
  },
  {
   "cell_type": "markdown",
   "metadata": {},
   "source": [
    "### Stats Models"
   ]
  },
  {
   "cell_type": "code",
   "execution_count": 681,
   "metadata": {},
   "outputs": [],
   "source": [
    "X_pca = pd.DataFrame(X_pca, columns = ['PC' + str(i) for i in range(1,pca.n_components_ + 1)])"
   ]
  },
  {
   "cell_type": "code",
   "execution_count": 682,
   "metadata": {},
   "outputs": [],
   "source": [
    "x = sm.add_constant(X_pca)"
   ]
  },
  {
   "cell_type": "code",
   "execution_count": 683,
   "metadata": {},
   "outputs": [],
   "source": [
    "y = y.reset_index(drop= True)"
   ]
  },
  {
   "cell_type": "code",
   "execution_count": 684,
   "metadata": {},
   "outputs": [],
   "source": [
    "model = sm.OLS(y, x).fit()"
   ]
  },
  {
   "cell_type": "code",
   "execution_count": 685,
   "metadata": {},
   "outputs": [
    {
     "data": {
      "text/html": [
       "<table class=\"simpletable\">\n",
       "<caption>OLS Regression Results</caption>\n",
       "<tr>\n",
       "  <th>Dep. Variable:</th>        <td>SalePrice</td>    <th>  R-squared:         </th> <td>   0.878</td>\n",
       "</tr>\n",
       "<tr>\n",
       "  <th>Model:</th>                   <td>OLS</td>       <th>  Adj. R-squared:    </th> <td>   0.875</td>\n",
       "</tr>\n",
       "<tr>\n",
       "  <th>Method:</th>             <td>Least Squares</td>  <th>  F-statistic:       </th> <td>   300.3</td>\n",
       "</tr>\n",
       "<tr>\n",
       "  <th>Date:</th>             <td>Sun, 01 Nov 2020</td> <th>  Prob (F-statistic):</th>  <td>  0.00</td> \n",
       "</tr>\n",
       "<tr>\n",
       "  <th>Time:</th>                 <td>17:54:17</td>     <th>  Log-Likelihood:    </th> <td>  809.25</td>\n",
       "</tr>\n",
       "<tr>\n",
       "  <th>No. Observations:</th>      <td>  1449</td>      <th>  AIC:               </th> <td>  -1549.</td>\n",
       "</tr>\n",
       "<tr>\n",
       "  <th>Df Residuals:</th>          <td>  1414</td>      <th>  BIC:               </th> <td>  -1364.</td>\n",
       "</tr>\n",
       "<tr>\n",
       "  <th>Df Model:</th>              <td>    34</td>      <th>                     </th>     <td> </td>   \n",
       "</tr>\n",
       "<tr>\n",
       "  <th>Covariance Type:</th>      <td>nonrobust</td>    <th>                     </th>     <td> </td>   \n",
       "</tr>\n",
       "</table>\n",
       "<table class=\"simpletable\">\n",
       "<tr>\n",
       "    <td></td>       <th>coef</th>     <th>std err</th>      <th>t</th>      <th>P>|t|</th>  <th>[0.025</th>    <th>0.975]</th>  \n",
       "</tr>\n",
       "<tr>\n",
       "  <th>const</th> <td>   12.0257</td> <td>    0.004</td> <td> 3266.795</td> <td> 0.000</td> <td>   12.018</td> <td>   12.033</td>\n",
       "</tr>\n",
       "<tr>\n",
       "  <th>PC1</th>   <td>   -0.1405</td> <td>    0.001</td> <td>  -95.354</td> <td> 0.000</td> <td>   -0.143</td> <td>   -0.138</td>\n",
       "</tr>\n",
       "<tr>\n",
       "  <th>PC2</th>   <td>   -0.0052</td> <td>    0.002</td> <td>   -2.394</td> <td> 0.017</td> <td>   -0.009</td> <td>   -0.001</td>\n",
       "</tr>\n",
       "<tr>\n",
       "  <th>PC3</th>   <td>    0.0299</td> <td>    0.002</td> <td>   13.234</td> <td> 0.000</td> <td>    0.025</td> <td>    0.034</td>\n",
       "</tr>\n",
       "<tr>\n",
       "  <th>PC4</th>   <td>   -0.0043</td> <td>    0.003</td> <td>   -1.568</td> <td> 0.117</td> <td>   -0.010</td> <td>    0.001</td>\n",
       "</tr>\n",
       "<tr>\n",
       "  <th>PC5</th>   <td>    0.0581</td> <td>    0.003</td> <td>   19.619</td> <td> 0.000</td> <td>    0.052</td> <td>    0.064</td>\n",
       "</tr>\n",
       "<tr>\n",
       "  <th>PC6</th>   <td>   -0.0068</td> <td>    0.003</td> <td>   -2.151</td> <td> 0.032</td> <td>   -0.013</td> <td>   -0.001</td>\n",
       "</tr>\n",
       "<tr>\n",
       "  <th>PC7</th>   <td>    0.0103</td> <td>    0.003</td> <td>    3.079</td> <td> 0.002</td> <td>    0.004</td> <td>    0.017</td>\n",
       "</tr>\n",
       "<tr>\n",
       "  <th>PC8</th>   <td>   -0.0040</td> <td>    0.003</td> <td>   -1.185</td> <td> 0.236</td> <td>   -0.011</td> <td>    0.003</td>\n",
       "</tr>\n",
       "<tr>\n",
       "  <th>PC9</th>   <td>   -0.0193</td> <td>    0.003</td> <td>   -5.527</td> <td> 0.000</td> <td>   -0.026</td> <td>   -0.012</td>\n",
       "</tr>\n",
       "<tr>\n",
       "  <th>PC10</th>  <td>    0.0032</td> <td>    0.004</td> <td>    0.913</td> <td> 0.362</td> <td>   -0.004</td> <td>    0.010</td>\n",
       "</tr>\n",
       "<tr>\n",
       "  <th>PC11</th>  <td>   -0.0031</td> <td>    0.004</td> <td>   -0.855</td> <td> 0.393</td> <td>   -0.010</td> <td>    0.004</td>\n",
       "</tr>\n",
       "<tr>\n",
       "  <th>PC12</th>  <td>   -0.0132</td> <td>    0.004</td> <td>   -3.631</td> <td> 0.000</td> <td>   -0.020</td> <td>   -0.006</td>\n",
       "</tr>\n",
       "<tr>\n",
       "  <th>PC13</th>  <td>    0.0089</td> <td>    0.004</td> <td>    2.421</td> <td> 0.016</td> <td>    0.002</td> <td>    0.016</td>\n",
       "</tr>\n",
       "<tr>\n",
       "  <th>PC14</th>  <td>    0.0300</td> <td>    0.004</td> <td>    7.994</td> <td> 0.000</td> <td>    0.023</td> <td>    0.037</td>\n",
       "</tr>\n",
       "<tr>\n",
       "  <th>PC15</th>  <td>    0.0385</td> <td>    0.004</td> <td>   10.179</td> <td> 0.000</td> <td>    0.031</td> <td>    0.046</td>\n",
       "</tr>\n",
       "<tr>\n",
       "  <th>PC16</th>  <td>    0.0147</td> <td>    0.004</td> <td>    3.823</td> <td> 0.000</td> <td>    0.007</td> <td>    0.022</td>\n",
       "</tr>\n",
       "<tr>\n",
       "  <th>PC17</th>  <td>    0.0014</td> <td>    0.004</td> <td>    0.366</td> <td> 0.715</td> <td>   -0.006</td> <td>    0.009</td>\n",
       "</tr>\n",
       "<tr>\n",
       "  <th>PC18</th>  <td>    0.0084</td> <td>    0.004</td> <td>    2.123</td> <td> 0.034</td> <td>    0.001</td> <td>    0.016</td>\n",
       "</tr>\n",
       "<tr>\n",
       "  <th>PC19</th>  <td>   -0.0107</td> <td>    0.004</td> <td>   -2.638</td> <td> 0.008</td> <td>   -0.019</td> <td>   -0.003</td>\n",
       "</tr>\n",
       "<tr>\n",
       "  <th>PC20</th>  <td>   -0.0144</td> <td>    0.004</td> <td>   -3.531</td> <td> 0.000</td> <td>   -0.022</td> <td>   -0.006</td>\n",
       "</tr>\n",
       "<tr>\n",
       "  <th>PC21</th>  <td>-9.362e-05</td> <td>    0.004</td> <td>   -0.022</td> <td> 0.982</td> <td>   -0.008</td> <td>    0.008</td>\n",
       "</tr>\n",
       "<tr>\n",
       "  <th>PC22</th>  <td>    0.0180</td> <td>    0.004</td> <td>    4.135</td> <td> 0.000</td> <td>    0.009</td> <td>    0.027</td>\n",
       "</tr>\n",
       "<tr>\n",
       "  <th>PC23</th>  <td>   -0.0194</td> <td>    0.004</td> <td>   -4.425</td> <td> 0.000</td> <td>   -0.028</td> <td>   -0.011</td>\n",
       "</tr>\n",
       "<tr>\n",
       "  <th>PC24</th>  <td>   -0.0197</td> <td>    0.005</td> <td>   -4.192</td> <td> 0.000</td> <td>   -0.029</td> <td>   -0.011</td>\n",
       "</tr>\n",
       "<tr>\n",
       "  <th>PC25</th>  <td>   -0.0004</td> <td>    0.005</td> <td>   -0.089</td> <td> 0.929</td> <td>   -0.010</td> <td>    0.009</td>\n",
       "</tr>\n",
       "<tr>\n",
       "  <th>PC26</th>  <td>    0.0129</td> <td>    0.005</td> <td>    2.516</td> <td> 0.012</td> <td>    0.003</td> <td>    0.023</td>\n",
       "</tr>\n",
       "<tr>\n",
       "  <th>PC27</th>  <td>    0.0690</td> <td>    0.006</td> <td>   12.081</td> <td> 0.000</td> <td>    0.058</td> <td>    0.080</td>\n",
       "</tr>\n",
       "<tr>\n",
       "  <th>PC28</th>  <td>   -0.0028</td> <td>    0.006</td> <td>   -0.450</td> <td> 0.653</td> <td>   -0.015</td> <td>    0.010</td>\n",
       "</tr>\n",
       "<tr>\n",
       "  <th>PC29</th>  <td>   -0.0037</td> <td>    0.006</td> <td>   -0.579</td> <td> 0.563</td> <td>   -0.016</td> <td>    0.009</td>\n",
       "</tr>\n",
       "<tr>\n",
       "  <th>PC30</th>  <td>   -0.0114</td> <td>    0.006</td> <td>   -1.773</td> <td> 0.076</td> <td>   -0.024</td> <td>    0.001</td>\n",
       "</tr>\n",
       "<tr>\n",
       "  <th>PC31</th>  <td>   -0.0361</td> <td>    0.007</td> <td>   -5.143</td> <td> 0.000</td> <td>   -0.050</td> <td>   -0.022</td>\n",
       "</tr>\n",
       "<tr>\n",
       "  <th>PC32</th>  <td>    0.0384</td> <td>    0.007</td> <td>    5.231</td> <td> 0.000</td> <td>    0.024</td> <td>    0.053</td>\n",
       "</tr>\n",
       "<tr>\n",
       "  <th>PC33</th>  <td>   -0.0267</td> <td>    0.008</td> <td>   -3.435</td> <td> 0.001</td> <td>   -0.042</td> <td>   -0.011</td>\n",
       "</tr>\n",
       "<tr>\n",
       "  <th>PC34</th>  <td>    0.0021</td> <td>    0.008</td> <td>    0.259</td> <td> 0.796</td> <td>   -0.014</td> <td>    0.018</td>\n",
       "</tr>\n",
       "</table>\n",
       "<table class=\"simpletable\">\n",
       "<tr>\n",
       "  <th>Omnibus:</th>       <td>379.065</td> <th>  Durbin-Watson:     </th> <td>   1.977</td>\n",
       "</tr>\n",
       "<tr>\n",
       "  <th>Prob(Omnibus):</th> <td> 0.000</td>  <th>  Jarque-Bera (JB):  </th> <td>3072.305</td>\n",
       "</tr>\n",
       "<tr>\n",
       "  <th>Skew:</th>          <td>-0.985</td>  <th>  Prob(JB):          </th> <td>    0.00</td>\n",
       "</tr>\n",
       "<tr>\n",
       "  <th>Kurtosis:</th>      <td> 9.856</td>  <th>  Cond. No.          </th> <td>    5.53</td>\n",
       "</tr>\n",
       "</table><br/><br/>Warnings:<br/>[1] Standard Errors assume that the covariance matrix of the errors is correctly specified."
      ],
      "text/plain": [
       "<class 'statsmodels.iolib.summary.Summary'>\n",
       "\"\"\"\n",
       "                            OLS Regression Results                            \n",
       "==============================================================================\n",
       "Dep. Variable:              SalePrice   R-squared:                       0.878\n",
       "Model:                            OLS   Adj. R-squared:                  0.875\n",
       "Method:                 Least Squares   F-statistic:                     300.3\n",
       "Date:                Sun, 01 Nov 2020   Prob (F-statistic):               0.00\n",
       "Time:                        17:54:17   Log-Likelihood:                 809.25\n",
       "No. Observations:                1449   AIC:                            -1549.\n",
       "Df Residuals:                    1414   BIC:                            -1364.\n",
       "Df Model:                          34                                         \n",
       "Covariance Type:            nonrobust                                         \n",
       "==============================================================================\n",
       "                 coef    std err          t      P>|t|      [0.025      0.975]\n",
       "------------------------------------------------------------------------------\n",
       "const         12.0257      0.004   3266.795      0.000      12.018      12.033\n",
       "PC1           -0.1405      0.001    -95.354      0.000      -0.143      -0.138\n",
       "PC2           -0.0052      0.002     -2.394      0.017      -0.009      -0.001\n",
       "PC3            0.0299      0.002     13.234      0.000       0.025       0.034\n",
       "PC4           -0.0043      0.003     -1.568      0.117      -0.010       0.001\n",
       "PC5            0.0581      0.003     19.619      0.000       0.052       0.064\n",
       "PC6           -0.0068      0.003     -2.151      0.032      -0.013      -0.001\n",
       "PC7            0.0103      0.003      3.079      0.002       0.004       0.017\n",
       "PC8           -0.0040      0.003     -1.185      0.236      -0.011       0.003\n",
       "PC9           -0.0193      0.003     -5.527      0.000      -0.026      -0.012\n",
       "PC10           0.0032      0.004      0.913      0.362      -0.004       0.010\n",
       "PC11          -0.0031      0.004     -0.855      0.393      -0.010       0.004\n",
       "PC12          -0.0132      0.004     -3.631      0.000      -0.020      -0.006\n",
       "PC13           0.0089      0.004      2.421      0.016       0.002       0.016\n",
       "PC14           0.0300      0.004      7.994      0.000       0.023       0.037\n",
       "PC15           0.0385      0.004     10.179      0.000       0.031       0.046\n",
       "PC16           0.0147      0.004      3.823      0.000       0.007       0.022\n",
       "PC17           0.0014      0.004      0.366      0.715      -0.006       0.009\n",
       "PC18           0.0084      0.004      2.123      0.034       0.001       0.016\n",
       "PC19          -0.0107      0.004     -2.638      0.008      -0.019      -0.003\n",
       "PC20          -0.0144      0.004     -3.531      0.000      -0.022      -0.006\n",
       "PC21       -9.362e-05      0.004     -0.022      0.982      -0.008       0.008\n",
       "PC22           0.0180      0.004      4.135      0.000       0.009       0.027\n",
       "PC23          -0.0194      0.004     -4.425      0.000      -0.028      -0.011\n",
       "PC24          -0.0197      0.005     -4.192      0.000      -0.029      -0.011\n",
       "PC25          -0.0004      0.005     -0.089      0.929      -0.010       0.009\n",
       "PC26           0.0129      0.005      2.516      0.012       0.003       0.023\n",
       "PC27           0.0690      0.006     12.081      0.000       0.058       0.080\n",
       "PC28          -0.0028      0.006     -0.450      0.653      -0.015       0.010\n",
       "PC29          -0.0037      0.006     -0.579      0.563      -0.016       0.009\n",
       "PC30          -0.0114      0.006     -1.773      0.076      -0.024       0.001\n",
       "PC31          -0.0361      0.007     -5.143      0.000      -0.050      -0.022\n",
       "PC32           0.0384      0.007      5.231      0.000       0.024       0.053\n",
       "PC33          -0.0267      0.008     -3.435      0.001      -0.042      -0.011\n",
       "PC34           0.0021      0.008      0.259      0.796      -0.014       0.018\n",
       "==============================================================================\n",
       "Omnibus:                      379.065   Durbin-Watson:                   1.977\n",
       "Prob(Omnibus):                  0.000   Jarque-Bera (JB):             3072.305\n",
       "Skew:                          -0.985   Prob(JB):                         0.00\n",
       "Kurtosis:                       9.856   Cond. No.                         5.53\n",
       "==============================================================================\n",
       "\n",
       "Warnings:\n",
       "[1] Standard Errors assume that the covariance matrix of the errors is correctly specified.\n",
       "\"\"\""
      ]
     },
     "execution_count": 685,
     "metadata": {},
     "output_type": "execute_result"
    }
   ],
   "source": [
    "model.summary()"
   ]
  },
  {
   "cell_type": "code",
   "execution_count": 691,
   "metadata": {},
   "outputs": [],
   "source": [
    "x_reduced = X_pca.drop(['PC4','PC6','PC8', 'PC10', 'PC11', 'PC14', 'PC18', 'PC21', 'PC25', 'PC28', 'PC29', 'PC30', 'PC34' ], axis = 1)\n",
    "x = sm.add_constant(x_reduced)"
   ]
  },
  {
   "cell_type": "code",
   "execution_count": 692,
   "metadata": {},
   "outputs": [],
   "source": [
    "model = sm.OLS(y,x).fit()"
   ]
  },
  {
   "cell_type": "code",
   "execution_count": 693,
   "metadata": {},
   "outputs": [
    {
     "data": {
      "text/html": [
       "<table class=\"simpletable\">\n",
       "<caption>OLS Regression Results</caption>\n",
       "<tr>\n",
       "  <th>Dep. Variable:</th>        <td>SalePrice</td>    <th>  R-squared:         </th> <td>   0.871</td>\n",
       "</tr>\n",
       "<tr>\n",
       "  <th>Model:</th>                   <td>OLS</td>       <th>  Adj. R-squared:    </th> <td>   0.869</td>\n",
       "</tr>\n",
       "<tr>\n",
       "  <th>Method:</th>             <td>Least Squares</td>  <th>  F-statistic:       </th> <td>   459.9</td>\n",
       "</tr>\n",
       "<tr>\n",
       "  <th>Date:</th>             <td>Sun, 01 Nov 2020</td> <th>  Prob (F-statistic):</th>  <td>  0.00</td> \n",
       "</tr>\n",
       "<tr>\n",
       "  <th>Time:</th>                 <td>17:56:31</td>     <th>  Log-Likelihood:    </th> <td>  768.30</td>\n",
       "</tr>\n",
       "<tr>\n",
       "  <th>No. Observations:</th>      <td>  1449</td>      <th>  AIC:               </th> <td>  -1493.</td>\n",
       "</tr>\n",
       "<tr>\n",
       "  <th>Df Residuals:</th>          <td>  1427</td>      <th>  BIC:               </th> <td>  -1376.</td>\n",
       "</tr>\n",
       "<tr>\n",
       "  <th>Df Model:</th>              <td>    21</td>      <th>                     </th>     <td> </td>   \n",
       "</tr>\n",
       "<tr>\n",
       "  <th>Covariance Type:</th>      <td>nonrobust</td>    <th>                     </th>     <td> </td>   \n",
       "</tr>\n",
       "</table>\n",
       "<table class=\"simpletable\">\n",
       "<tr>\n",
       "    <td></td>       <th>coef</th>     <th>std err</th>      <th>t</th>      <th>P>|t|</th>  <th>[0.025</th>    <th>0.975]</th>  \n",
       "</tr>\n",
       "<tr>\n",
       "  <th>const</th> <td>   12.0257</td> <td>    0.004</td> <td> 3190.334</td> <td> 0.000</td> <td>   12.018</td> <td>   12.033</td>\n",
       "</tr>\n",
       "<tr>\n",
       "  <th>PC1</th>   <td>   -0.1405</td> <td>    0.002</td> <td>  -93.122</td> <td> 0.000</td> <td>   -0.144</td> <td>   -0.138</td>\n",
       "</tr>\n",
       "<tr>\n",
       "  <th>PC2</th>   <td>   -0.0052</td> <td>    0.002</td> <td>   -2.338</td> <td> 0.020</td> <td>   -0.009</td> <td>   -0.001</td>\n",
       "</tr>\n",
       "<tr>\n",
       "  <th>PC3</th>   <td>    0.0299</td> <td>    0.002</td> <td>   12.924</td> <td> 0.000</td> <td>    0.025</td> <td>    0.034</td>\n",
       "</tr>\n",
       "<tr>\n",
       "  <th>PC5</th>   <td>    0.0581</td> <td>    0.003</td> <td>   19.160</td> <td> 0.000</td> <td>    0.052</td> <td>    0.064</td>\n",
       "</tr>\n",
       "<tr>\n",
       "  <th>PC7</th>   <td>    0.0103</td> <td>    0.003</td> <td>    3.007</td> <td> 0.003</td> <td>    0.004</td> <td>    0.017</td>\n",
       "</tr>\n",
       "<tr>\n",
       "  <th>PC9</th>   <td>   -0.0193</td> <td>    0.004</td> <td>   -5.397</td> <td> 0.000</td> <td>   -0.026</td> <td>   -0.012</td>\n",
       "</tr>\n",
       "<tr>\n",
       "  <th>PC12</th>  <td>   -0.0132</td> <td>    0.004</td> <td>   -3.546</td> <td> 0.000</td> <td>   -0.020</td> <td>   -0.006</td>\n",
       "</tr>\n",
       "<tr>\n",
       "  <th>PC13</th>  <td>    0.0089</td> <td>    0.004</td> <td>    2.364</td> <td> 0.018</td> <td>    0.002</td> <td>    0.016</td>\n",
       "</tr>\n",
       "<tr>\n",
       "  <th>PC15</th>  <td>    0.0385</td> <td>    0.004</td> <td>    9.941</td> <td> 0.000</td> <td>    0.031</td> <td>    0.046</td>\n",
       "</tr>\n",
       "<tr>\n",
       "  <th>PC16</th>  <td>    0.0147</td> <td>    0.004</td> <td>    3.734</td> <td> 0.000</td> <td>    0.007</td> <td>    0.022</td>\n",
       "</tr>\n",
       "<tr>\n",
       "  <th>PC17</th>  <td>    0.0014</td> <td>    0.004</td> <td>    0.357</td> <td> 0.721</td> <td>   -0.006</td> <td>    0.009</td>\n",
       "</tr>\n",
       "<tr>\n",
       "  <th>PC19</th>  <td>   -0.0107</td> <td>    0.004</td> <td>   -2.576</td> <td> 0.010</td> <td>   -0.019</td> <td>   -0.003</td>\n",
       "</tr>\n",
       "<tr>\n",
       "  <th>PC20</th>  <td>   -0.0144</td> <td>    0.004</td> <td>   -3.449</td> <td> 0.001</td> <td>   -0.023</td> <td>   -0.006</td>\n",
       "</tr>\n",
       "<tr>\n",
       "  <th>PC22</th>  <td>    0.0180</td> <td>    0.004</td> <td>    4.038</td> <td> 0.000</td> <td>    0.009</td> <td>    0.027</td>\n",
       "</tr>\n",
       "<tr>\n",
       "  <th>PC23</th>  <td>   -0.0194</td> <td>    0.004</td> <td>   -4.321</td> <td> 0.000</td> <td>   -0.028</td> <td>   -0.011</td>\n",
       "</tr>\n",
       "<tr>\n",
       "  <th>PC24</th>  <td>   -0.0197</td> <td>    0.005</td> <td>   -4.094</td> <td> 0.000</td> <td>   -0.029</td> <td>   -0.010</td>\n",
       "</tr>\n",
       "<tr>\n",
       "  <th>PC26</th>  <td>    0.0129</td> <td>    0.005</td> <td>    2.457</td> <td> 0.014</td> <td>    0.003</td> <td>    0.023</td>\n",
       "</tr>\n",
       "<tr>\n",
       "  <th>PC27</th>  <td>    0.0690</td> <td>    0.006</td> <td>   11.798</td> <td> 0.000</td> <td>    0.058</td> <td>    0.080</td>\n",
       "</tr>\n",
       "<tr>\n",
       "  <th>PC31</th>  <td>   -0.0361</td> <td>    0.007</td> <td>   -5.022</td> <td> 0.000</td> <td>   -0.050</td> <td>   -0.022</td>\n",
       "</tr>\n",
       "<tr>\n",
       "  <th>PC32</th>  <td>    0.0384</td> <td>    0.008</td> <td>    5.109</td> <td> 0.000</td> <td>    0.024</td> <td>    0.053</td>\n",
       "</tr>\n",
       "<tr>\n",
       "  <th>PC33</th>  <td>   -0.0267</td> <td>    0.008</td> <td>   -3.355</td> <td> 0.001</td> <td>   -0.042</td> <td>   -0.011</td>\n",
       "</tr>\n",
       "</table>\n",
       "<table class=\"simpletable\">\n",
       "<tr>\n",
       "  <th>Omnibus:</th>       <td>345.094</td> <th>  Durbin-Watson:     </th> <td>   1.955</td>\n",
       "</tr>\n",
       "<tr>\n",
       "  <th>Prob(Omnibus):</th> <td> 0.000</td>  <th>  Jarque-Bera (JB):  </th> <td>2707.482</td>\n",
       "</tr>\n",
       "<tr>\n",
       "  <th>Skew:</th>          <td>-0.886</td>  <th>  Prob(JB):          </th> <td>    0.00</td>\n",
       "</tr>\n",
       "<tr>\n",
       "  <th>Kurtosis:</th>      <td> 9.458</td>  <th>  Cond. No.          </th> <td>    5.28</td>\n",
       "</tr>\n",
       "</table><br/><br/>Warnings:<br/>[1] Standard Errors assume that the covariance matrix of the errors is correctly specified."
      ],
      "text/plain": [
       "<class 'statsmodels.iolib.summary.Summary'>\n",
       "\"\"\"\n",
       "                            OLS Regression Results                            \n",
       "==============================================================================\n",
       "Dep. Variable:              SalePrice   R-squared:                       0.871\n",
       "Model:                            OLS   Adj. R-squared:                  0.869\n",
       "Method:                 Least Squares   F-statistic:                     459.9\n",
       "Date:                Sun, 01 Nov 2020   Prob (F-statistic):               0.00\n",
       "Time:                        17:56:31   Log-Likelihood:                 768.30\n",
       "No. Observations:                1449   AIC:                            -1493.\n",
       "Df Residuals:                    1427   BIC:                            -1376.\n",
       "Df Model:                          21                                         \n",
       "Covariance Type:            nonrobust                                         \n",
       "==============================================================================\n",
       "                 coef    std err          t      P>|t|      [0.025      0.975]\n",
       "------------------------------------------------------------------------------\n",
       "const         12.0257      0.004   3190.334      0.000      12.018      12.033\n",
       "PC1           -0.1405      0.002    -93.122      0.000      -0.144      -0.138\n",
       "PC2           -0.0052      0.002     -2.338      0.020      -0.009      -0.001\n",
       "PC3            0.0299      0.002     12.924      0.000       0.025       0.034\n",
       "PC5            0.0581      0.003     19.160      0.000       0.052       0.064\n",
       "PC7            0.0103      0.003      3.007      0.003       0.004       0.017\n",
       "PC9           -0.0193      0.004     -5.397      0.000      -0.026      -0.012\n",
       "PC12          -0.0132      0.004     -3.546      0.000      -0.020      -0.006\n",
       "PC13           0.0089      0.004      2.364      0.018       0.002       0.016\n",
       "PC15           0.0385      0.004      9.941      0.000       0.031       0.046\n",
       "PC16           0.0147      0.004      3.734      0.000       0.007       0.022\n",
       "PC17           0.0014      0.004      0.357      0.721      -0.006       0.009\n",
       "PC19          -0.0107      0.004     -2.576      0.010      -0.019      -0.003\n",
       "PC20          -0.0144      0.004     -3.449      0.001      -0.023      -0.006\n",
       "PC22           0.0180      0.004      4.038      0.000       0.009       0.027\n",
       "PC23          -0.0194      0.004     -4.321      0.000      -0.028      -0.011\n",
       "PC24          -0.0197      0.005     -4.094      0.000      -0.029      -0.010\n",
       "PC26           0.0129      0.005      2.457      0.014       0.003       0.023\n",
       "PC27           0.0690      0.006     11.798      0.000       0.058       0.080\n",
       "PC31          -0.0361      0.007     -5.022      0.000      -0.050      -0.022\n",
       "PC32           0.0384      0.008      5.109      0.000       0.024       0.053\n",
       "PC33          -0.0267      0.008     -3.355      0.001      -0.042      -0.011\n",
       "==============================================================================\n",
       "Omnibus:                      345.094   Durbin-Watson:                   1.955\n",
       "Prob(Omnibus):                  0.000   Jarque-Bera (JB):             2707.482\n",
       "Skew:                          -0.886   Prob(JB):                         0.00\n",
       "Kurtosis:                       9.458   Cond. No.                         5.28\n",
       "==============================================================================\n",
       "\n",
       "Warnings:\n",
       "[1] Standard Errors assume that the covariance matrix of the errors is correctly specified.\n",
       "\"\"\""
      ]
     },
     "execution_count": 693,
     "metadata": {},
     "output_type": "execute_result"
    }
   ],
   "source": [
    "model.summary()"
   ]
  }
 ],
 "metadata": {
  "kernelspec": {
   "display_name": "Python 3",
   "language": "python",
   "name": "python3"
  },
  "language_info": {
   "codemirror_mode": {
    "name": "ipython",
    "version": 3
   },
   "file_extension": ".py",
   "mimetype": "text/x-python",
   "name": "python",
   "nbconvert_exporter": "python",
   "pygments_lexer": "ipython3",
   "version": "3.7.6"
  }
 },
 "nbformat": 4,
 "nbformat_minor": 4
}
